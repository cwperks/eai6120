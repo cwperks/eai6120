{
 "cells": [
  {
   "cell_type": "code",
   "execution_count": 21,
   "id": "ee86cab5",
   "metadata": {},
   "outputs": [
    {
     "name": "stderr",
     "output_type": "stream",
     "text": [
      "/usr/local/lib/python3.9/site-packages/IPython/core/interactiveshell.py:3361: DtypeWarning: Columns (18) have mixed types.Specify dtype option on import or set low_memory=False.\n",
      "  exec(code_obj, self.user_global_ns, self.user_ns)\n"
     ]
    }
   ],
   "source": [
    "import pandas as pd\n",
    "\n",
    "df = pd.read_csv(\"311_Service_Requests_from_June_2021_to_Present.csv\")"
   ]
  },
  {
   "cell_type": "code",
   "execution_count": 34,
   "id": "f7c86db0",
   "metadata": {},
   "outputs": [
    {
     "data": {
      "text/plain": [
       "(813514, 43)"
      ]
     },
     "execution_count": 34,
     "metadata": {},
     "output_type": "execute_result"
    }
   ],
   "source": [
    "df.shape"
   ]
  },
  {
   "cell_type": "code",
   "execution_count": 23,
   "id": "01081b7b",
   "metadata": {},
   "outputs": [
    {
     "data": {
      "text/html": [
       "<div>\n",
       "<style scoped>\n",
       "    .dataframe tbody tr th:only-of-type {\n",
       "        vertical-align: middle;\n",
       "    }\n",
       "\n",
       "    .dataframe tbody tr th {\n",
       "        vertical-align: top;\n",
       "    }\n",
       "\n",
       "    .dataframe thead th {\n",
       "        text-align: right;\n",
       "    }\n",
       "</style>\n",
       "<table border=\"1\" class=\"dataframe\">\n",
       "  <thead>\n",
       "    <tr style=\"text-align: right;\">\n",
       "      <th></th>\n",
       "      <th>Unique Key</th>\n",
       "      <th>Created Date</th>\n",
       "      <th>Closed Date</th>\n",
       "      <th>Agency</th>\n",
       "      <th>Agency Name</th>\n",
       "      <th>Complaint Type</th>\n",
       "      <th>Descriptor</th>\n",
       "      <th>Location Type</th>\n",
       "      <th>Incident Zip</th>\n",
       "      <th>Incident Address</th>\n",
       "      <th>...</th>\n",
       "      <th>Vehicle Type</th>\n",
       "      <th>Taxi Company Borough</th>\n",
       "      <th>Taxi Pick Up Location</th>\n",
       "      <th>Bridge Highway Name</th>\n",
       "      <th>Bridge Highway Direction</th>\n",
       "      <th>Road Ramp</th>\n",
       "      <th>Bridge Highway Segment</th>\n",
       "      <th>Latitude</th>\n",
       "      <th>Longitude</th>\n",
       "      <th>Location</th>\n",
       "    </tr>\n",
       "  </thead>\n",
       "  <tbody>\n",
       "    <tr>\n",
       "      <th>0</th>\n",
       "      <td>49891797</td>\n",
       "      <td>03/01/2021 12:00:02 AM</td>\n",
       "      <td>03/01/2021 02:33:12 AM</td>\n",
       "      <td>NYPD</td>\n",
       "      <td>New York City Police Department</td>\n",
       "      <td>Noise - Residential</td>\n",
       "      <td>Loud Music/Party</td>\n",
       "      <td>Residential Building/House</td>\n",
       "      <td>10453.0</td>\n",
       "      <td>1705 ANDREWS AVENUE</td>\n",
       "      <td>...</td>\n",
       "      <td>NaN</td>\n",
       "      <td>NaN</td>\n",
       "      <td>NaN</td>\n",
       "      <td>NaN</td>\n",
       "      <td>NaN</td>\n",
       "      <td>NaN</td>\n",
       "      <td>NaN</td>\n",
       "      <td>40.849901</td>\n",
       "      <td>-73.918050</td>\n",
       "      <td>(40.84990124924224, -73.9180502434322)</td>\n",
       "    </tr>\n",
       "    <tr>\n",
       "      <th>1</th>\n",
       "      <td>49890117</td>\n",
       "      <td>03/01/2021 12:00:10 AM</td>\n",
       "      <td>03/01/2021 12:16:55 AM</td>\n",
       "      <td>NYPD</td>\n",
       "      <td>New York City Police Department</td>\n",
       "      <td>Noise - Residential</td>\n",
       "      <td>Loud Music/Party</td>\n",
       "      <td>Residential Building/House</td>\n",
       "      <td>11213.0</td>\n",
       "      <td>198 ROCHESTER AVENUE</td>\n",
       "      <td>...</td>\n",
       "      <td>NaN</td>\n",
       "      <td>NaN</td>\n",
       "      <td>NaN</td>\n",
       "      <td>NaN</td>\n",
       "      <td>NaN</td>\n",
       "      <td>NaN</td>\n",
       "      <td>NaN</td>\n",
       "      <td>40.672501</td>\n",
       "      <td>-73.927998</td>\n",
       "      <td>(40.67250142020611, -73.92799802462538)</td>\n",
       "    </tr>\n",
       "    <tr>\n",
       "      <th>2</th>\n",
       "      <td>49895801</td>\n",
       "      <td>03/01/2021 12:00:21 AM</td>\n",
       "      <td>03/01/2021 12:22:34 AM</td>\n",
       "      <td>NYPD</td>\n",
       "      <td>New York City Police Department</td>\n",
       "      <td>Noise - Residential</td>\n",
       "      <td>Loud Talking</td>\n",
       "      <td>Residential Building/House</td>\n",
       "      <td>10029.0</td>\n",
       "      <td>2070 3 AVENUE</td>\n",
       "      <td>...</td>\n",
       "      <td>NaN</td>\n",
       "      <td>NaN</td>\n",
       "      <td>NaN</td>\n",
       "      <td>NaN</td>\n",
       "      <td>NaN</td>\n",
       "      <td>NaN</td>\n",
       "      <td>NaN</td>\n",
       "      <td>40.797321</td>\n",
       "      <td>-73.940490</td>\n",
       "      <td>(40.797320741003375, -73.94048961249807)</td>\n",
       "    </tr>\n",
       "    <tr>\n",
       "      <th>3</th>\n",
       "      <td>49903649</td>\n",
       "      <td>03/01/2021 12:01:00 AM</td>\n",
       "      <td>03/02/2021 02:00:00 AM</td>\n",
       "      <td>DEP</td>\n",
       "      <td>Department of Environmental Protection</td>\n",
       "      <td>Noise</td>\n",
       "      <td>Noise: Construction Before/After Hours (NM1)</td>\n",
       "      <td>NaN</td>\n",
       "      <td>10306.0</td>\n",
       "      <td>2144 SOUTH RAILROAD AVENUE</td>\n",
       "      <td>...</td>\n",
       "      <td>NaN</td>\n",
       "      <td>NaN</td>\n",
       "      <td>NaN</td>\n",
       "      <td>NaN</td>\n",
       "      <td>NaN</td>\n",
       "      <td>NaN</td>\n",
       "      <td>NaN</td>\n",
       "      <td>40.558427</td>\n",
       "      <td>-74.133998</td>\n",
       "      <td>(40.55842709584167, -74.13399813577169)</td>\n",
       "    </tr>\n",
       "    <tr>\n",
       "      <th>4</th>\n",
       "      <td>49892231</td>\n",
       "      <td>03/01/2021 12:01:51 AM</td>\n",
       "      <td>03/01/2021 01:31:33 AM</td>\n",
       "      <td>NYPD</td>\n",
       "      <td>New York City Police Department</td>\n",
       "      <td>Noise - Residential</td>\n",
       "      <td>Loud Talking</td>\n",
       "      <td>Residential Building/House</td>\n",
       "      <td>11432.0</td>\n",
       "      <td>84-79 168 PLACE</td>\n",
       "      <td>...</td>\n",
       "      <td>NaN</td>\n",
       "      <td>NaN</td>\n",
       "      <td>NaN</td>\n",
       "      <td>NaN</td>\n",
       "      <td>NaN</td>\n",
       "      <td>NaN</td>\n",
       "      <td>NaN</td>\n",
       "      <td>40.714459</td>\n",
       "      <td>-73.795921</td>\n",
       "      <td>(40.71445879152186, -73.79592053239769)</td>\n",
       "    </tr>\n",
       "  </tbody>\n",
       "</table>\n",
       "<p>5 rows × 41 columns</p>\n",
       "</div>"
      ],
      "text/plain": [
       "   Unique Key            Created Date             Closed Date Agency  \\\n",
       "0    49891797  03/01/2021 12:00:02 AM  03/01/2021 02:33:12 AM   NYPD   \n",
       "1    49890117  03/01/2021 12:00:10 AM  03/01/2021 12:16:55 AM   NYPD   \n",
       "2    49895801  03/01/2021 12:00:21 AM  03/01/2021 12:22:34 AM   NYPD   \n",
       "3    49903649  03/01/2021 12:01:00 AM  03/02/2021 02:00:00 AM    DEP   \n",
       "4    49892231  03/01/2021 12:01:51 AM  03/01/2021 01:31:33 AM   NYPD   \n",
       "\n",
       "                              Agency Name       Complaint Type  \\\n",
       "0         New York City Police Department  Noise - Residential   \n",
       "1         New York City Police Department  Noise - Residential   \n",
       "2         New York City Police Department  Noise - Residential   \n",
       "3  Department of Environmental Protection                Noise   \n",
       "4         New York City Police Department  Noise - Residential   \n",
       "\n",
       "                                     Descriptor               Location Type  \\\n",
       "0                              Loud Music/Party  Residential Building/House   \n",
       "1                              Loud Music/Party  Residential Building/House   \n",
       "2                                  Loud Talking  Residential Building/House   \n",
       "3  Noise: Construction Before/After Hours (NM1)                         NaN   \n",
       "4                                  Loud Talking  Residential Building/House   \n",
       "\n",
       "   Incident Zip            Incident Address  ... Vehicle Type  \\\n",
       "0       10453.0         1705 ANDREWS AVENUE  ...          NaN   \n",
       "1       11213.0        198 ROCHESTER AVENUE  ...          NaN   \n",
       "2       10029.0               2070 3 AVENUE  ...          NaN   \n",
       "3       10306.0  2144 SOUTH RAILROAD AVENUE  ...          NaN   \n",
       "4       11432.0             84-79 168 PLACE  ...          NaN   \n",
       "\n",
       "  Taxi Company Borough Taxi Pick Up Location Bridge Highway Name  \\\n",
       "0                  NaN                   NaN                 NaN   \n",
       "1                  NaN                   NaN                 NaN   \n",
       "2                  NaN                   NaN                 NaN   \n",
       "3                  NaN                   NaN                 NaN   \n",
       "4                  NaN                   NaN                 NaN   \n",
       "\n",
       "  Bridge Highway Direction Road Ramp Bridge Highway Segment   Latitude  \\\n",
       "0                      NaN       NaN                    NaN  40.849901   \n",
       "1                      NaN       NaN                    NaN  40.672501   \n",
       "2                      NaN       NaN                    NaN  40.797321   \n",
       "3                      NaN       NaN                    NaN  40.558427   \n",
       "4                      NaN       NaN                    NaN  40.714459   \n",
       "\n",
       "   Longitude                                  Location  \n",
       "0 -73.918050    (40.84990124924224, -73.9180502434322)  \n",
       "1 -73.927998   (40.67250142020611, -73.92799802462538)  \n",
       "2 -73.940490  (40.797320741003375, -73.94048961249807)  \n",
       "3 -74.133998   (40.55842709584167, -74.13399813577169)  \n",
       "4 -73.795921   (40.71445879152186, -73.79592053239769)  \n",
       "\n",
       "[5 rows x 41 columns]"
      ]
     },
     "execution_count": 23,
     "metadata": {},
     "output_type": "execute_result"
    }
   ],
   "source": [
    "df.head()"
   ]
  },
  {
   "cell_type": "code",
   "execution_count": 24,
   "id": "897c1fff",
   "metadata": {},
   "outputs": [
    {
     "data": {
      "text/plain": [
       "Unique Key                          int64\n",
       "Created Date                       object\n",
       "Closed Date                        object\n",
       "Agency                             object\n",
       "Agency Name                        object\n",
       "Complaint Type                     object\n",
       "Descriptor                         object\n",
       "Location Type                      object\n",
       "Incident Zip                      float64\n",
       "Incident Address                   object\n",
       "Street Name                        object\n",
       "Cross Street 1                     object\n",
       "Cross Street 2                     object\n",
       "Intersection Street 1              object\n",
       "Intersection Street 2              object\n",
       "Address Type                       object\n",
       "City                               object\n",
       "Landmark                           object\n",
       "Facility Type                      object\n",
       "Status                             object\n",
       "Due Date                          float64\n",
       "Resolution Description             object\n",
       "Resolution Action Updated Date     object\n",
       "Community Board                    object\n",
       "BBL                               float64\n",
       "Borough                            object\n",
       "X Coordinate (State Plane)        float64\n",
       "Y Coordinate (State Plane)        float64\n",
       "Open Data Channel Type             object\n",
       "Park Facility Name                 object\n",
       "Park Borough                       object\n",
       "Vehicle Type                      float64\n",
       "Taxi Company Borough              float64\n",
       "Taxi Pick Up Location             float64\n",
       "Bridge Highway Name               float64\n",
       "Bridge Highway Direction          float64\n",
       "Road Ramp                         float64\n",
       "Bridge Highway Segment            float64\n",
       "Latitude                          float64\n",
       "Longitude                         float64\n",
       "Location                           object\n",
       "dtype: object"
      ]
     },
     "execution_count": 24,
     "metadata": {},
     "output_type": "execute_result"
    }
   ],
   "source": [
    "df.dtypes"
   ]
  },
  {
   "cell_type": "code",
   "execution_count": 25,
   "id": "afd33cc2",
   "metadata": {},
   "outputs": [],
   "source": [
    "df['created_at'] = pd.to_datetime(df['Created Date'])\n",
    "df['closed_at'] = pd.to_datetime(df['Closed Date'])"
   ]
  },
  {
   "cell_type": "code",
   "execution_count": 26,
   "id": "a6a5019f",
   "metadata": {},
   "outputs": [
    {
     "data": {
      "text/plain": [
       "0   2021-03-01 00:00:02\n",
       "1   2021-03-01 00:00:10\n",
       "2   2021-03-01 00:00:21\n",
       "3   2021-03-01 00:01:00\n",
       "4   2021-03-01 00:01:51\n",
       "Name: created_at, dtype: datetime64[ns]"
      ]
     },
     "execution_count": 26,
     "metadata": {},
     "output_type": "execute_result"
    }
   ],
   "source": [
    "df['created_at'].head()"
   ]
  },
  {
   "cell_type": "code",
   "execution_count": 97,
   "id": "7e504ab0",
   "metadata": {},
   "outputs": [],
   "source": [
    "closed_df = df[~df[\"closed_at\"].isnull()]\n",
    "closed_df = closed_df[~closed_df[\"created_at\"].isnull()]"
   ]
  },
  {
   "cell_type": "code",
   "execution_count": 98,
   "id": "d91eaa8b",
   "metadata": {},
   "outputs": [
    {
     "data": {
      "text/plain": [
       "(788478, 45)"
      ]
     },
     "execution_count": 98,
     "metadata": {},
     "output_type": "execute_result"
    }
   ],
   "source": [
    "closed_df.shape"
   ]
  },
  {
   "cell_type": "code",
   "execution_count": 35,
   "id": "aec76983",
   "metadata": {},
   "outputs": [],
   "source": [
    "df[\"created_month\"] = df[\"created_at\"].dt.strftime(\"%Y-%m\")"
   ]
  },
  {
   "cell_type": "code",
   "execution_count": 36,
   "id": "98be4e94",
   "metadata": {},
   "outputs": [
    {
     "data": {
      "text/plain": [
       "0    2021-03\n",
       "1    2021-03\n",
       "2    2021-03\n",
       "3    2021-03\n",
       "4    2021-03\n",
       "Name: created_month, dtype: object"
      ]
     },
     "execution_count": 36,
     "metadata": {},
     "output_type": "execute_result"
    }
   ],
   "source": [
    "df[\"created_month\"].head()"
   ]
  },
  {
   "cell_type": "code",
   "execution_count": 37,
   "id": "1e01ddce",
   "metadata": {},
   "outputs": [
    {
     "data": {
      "text/html": [
       "<div>\n",
       "<style scoped>\n",
       "    .dataframe tbody tr th:only-of-type {\n",
       "        vertical-align: middle;\n",
       "    }\n",
       "\n",
       "    .dataframe tbody tr th {\n",
       "        vertical-align: top;\n",
       "    }\n",
       "\n",
       "    .dataframe thead th {\n",
       "        text-align: right;\n",
       "    }\n",
       "</style>\n",
       "<table border=\"1\" class=\"dataframe\">\n",
       "  <thead>\n",
       "    <tr style=\"text-align: right;\">\n",
       "      <th></th>\n",
       "      <th>values</th>\n",
       "      <th>counts</th>\n",
       "    </tr>\n",
       "  </thead>\n",
       "  <tbody>\n",
       "    <tr>\n",
       "      <th>0</th>\n",
       "      <td>2021-06</td>\n",
       "      <td>89991</td>\n",
       "    </tr>\n",
       "    <tr>\n",
       "      <th>1</th>\n",
       "      <td>2021-05</td>\n",
       "      <td>86900</td>\n",
       "    </tr>\n",
       "    <tr>\n",
       "      <th>2</th>\n",
       "      <td>2021-07</td>\n",
       "      <td>85758</td>\n",
       "    </tr>\n",
       "    <tr>\n",
       "      <th>3</th>\n",
       "      <td>2021-09</td>\n",
       "      <td>83050</td>\n",
       "    </tr>\n",
       "    <tr>\n",
       "      <th>4</th>\n",
       "      <td>2021-08</td>\n",
       "      <td>73603</td>\n",
       "    </tr>\n",
       "    <tr>\n",
       "      <th>5</th>\n",
       "      <td>2021-10</td>\n",
       "      <td>72205</td>\n",
       "    </tr>\n",
       "    <tr>\n",
       "      <th>6</th>\n",
       "      <td>2021-04</td>\n",
       "      <td>61341</td>\n",
       "    </tr>\n",
       "    <tr>\n",
       "      <th>7</th>\n",
       "      <td>2021-03</td>\n",
       "      <td>51512</td>\n",
       "    </tr>\n",
       "    <tr>\n",
       "      <th>8</th>\n",
       "      <td>2022-02</td>\n",
       "      <td>46272</td>\n",
       "    </tr>\n",
       "    <tr>\n",
       "      <th>9</th>\n",
       "      <td>2021-11</td>\n",
       "      <td>45399</td>\n",
       "    </tr>\n",
       "    <tr>\n",
       "      <th>10</th>\n",
       "      <td>2021-12</td>\n",
       "      <td>41797</td>\n",
       "    </tr>\n",
       "    <tr>\n",
       "      <th>11</th>\n",
       "      <td>2022-03</td>\n",
       "      <td>38350</td>\n",
       "    </tr>\n",
       "    <tr>\n",
       "      <th>12</th>\n",
       "      <td>2022-01</td>\n",
       "      <td>37336</td>\n",
       "    </tr>\n",
       "  </tbody>\n",
       "</table>\n",
       "</div>"
      ],
      "text/plain": [
       "     values  counts\n",
       "0   2021-06   89991\n",
       "1   2021-05   86900\n",
       "2   2021-07   85758\n",
       "3   2021-09   83050\n",
       "4   2021-08   73603\n",
       "5   2021-10   72205\n",
       "6   2021-04   61341\n",
       "7   2021-03   51512\n",
       "8   2022-02   46272\n",
       "9   2021-11   45399\n",
       "10  2021-12   41797\n",
       "11  2022-03   38350\n",
       "12  2022-01   37336"
      ]
     },
     "execution_count": 37,
     "metadata": {},
     "output_type": "execute_result"
    }
   ],
   "source": [
    "noise_complaints_by_month = df[\"created_month\"].value_counts().rename_axis('values').reset_index(name='counts')\n",
    "\n",
    "noise_complaints_by_month"
   ]
  },
  {
   "cell_type": "code",
   "execution_count": 39,
   "id": "ac5ae684",
   "metadata": {},
   "outputs": [
    {
     "data": {
      "image/png": "[encoded data removed]",
      "text/plain": [
       "<Figure size 1080x720 with 1 Axes>"
      ]
     },
     "metadata": {
      "needs_background": "light"
     },
     "output_type": "display_data"
    }
   ],
   "source": [
    "import matplotlib.pyplot as plt\n",
    "\n",
    "noise_complaints_by_month.plot(x ='values', y='counts', kind = 'line', title =\"Noise Complaints by Month in NYC (September 2021 - March 2022)\", figsize=(15, 10))\n",
    "plt.xlabel(\"Month\")\n",
    "plt.ylabel(\"Count of Complaints\")\n",
    "plt.show()"
   ]
  },
  {
   "cell_type": "code",
   "execution_count": 40,
   "id": "ae3fac6b",
   "metadata": {},
   "outputs": [
    {
     "data": {
      "text/html": [
       "<div>\n",
       "<style scoped>\n",
       "    .dataframe tbody tr th:only-of-type {\n",
       "        vertical-align: middle;\n",
       "    }\n",
       "\n",
       "    .dataframe tbody tr th {\n",
       "        vertical-align: top;\n",
       "    }\n",
       "\n",
       "    .dataframe thead th {\n",
       "        text-align: right;\n",
       "    }\n",
       "</style>\n",
       "<table border=\"1\" class=\"dataframe\">\n",
       "  <thead>\n",
       "    <tr style=\"text-align: right;\">\n",
       "      <th></th>\n",
       "      <th>values</th>\n",
       "      <th>counts</th>\n",
       "    </tr>\n",
       "  </thead>\n",
       "  <tbody>\n",
       "    <tr>\n",
       "      <th>0</th>\n",
       "      <td>Noise - Residential</td>\n",
       "      <td>384027</td>\n",
       "    </tr>\n",
       "    <tr>\n",
       "      <th>1</th>\n",
       "      <td>Noise - Street/Sidewalk</td>\n",
       "      <td>190142</td>\n",
       "    </tr>\n",
       "    <tr>\n",
       "      <th>2</th>\n",
       "      <td>Noise - Vehicle</td>\n",
       "      <td>90190</td>\n",
       "    </tr>\n",
       "    <tr>\n",
       "      <th>3</th>\n",
       "      <td>Noise - Commercial</td>\n",
       "      <td>61267</td>\n",
       "    </tr>\n",
       "    <tr>\n",
       "      <th>4</th>\n",
       "      <td>Noise</td>\n",
       "      <td>49192</td>\n",
       "    </tr>\n",
       "    <tr>\n",
       "      <th>5</th>\n",
       "      <td>Noise - Helicopter</td>\n",
       "      <td>26508</td>\n",
       "    </tr>\n",
       "    <tr>\n",
       "      <th>6</th>\n",
       "      <td>Noise - Park</td>\n",
       "      <td>9705</td>\n",
       "    </tr>\n",
       "    <tr>\n",
       "      <th>7</th>\n",
       "      <td>Noise - House of Worship</td>\n",
       "      <td>2482</td>\n",
       "    </tr>\n",
       "    <tr>\n",
       "      <th>8</th>\n",
       "      <td>Collection Truck Noise</td>\n",
       "      <td>1</td>\n",
       "    </tr>\n",
       "  </tbody>\n",
       "</table>\n",
       "</div>"
      ],
      "text/plain": [
       "                     values  counts\n",
       "0       Noise - Residential  384027\n",
       "1   Noise - Street/Sidewalk  190142\n",
       "2           Noise - Vehicle   90190\n",
       "3        Noise - Commercial   61267\n",
       "4                     Noise   49192\n",
       "5        Noise - Helicopter   26508\n",
       "6              Noise - Park    9705\n",
       "7  Noise - House of Worship    2482\n",
       "8    Collection Truck Noise       1"
      ]
     },
     "execution_count": 40,
     "metadata": {},
     "output_type": "execute_result"
    }
   ],
   "source": [
    "complaint_type_counts = df[\"Complaint Type\"].value_counts().rename_axis('values').reset_index(name='counts')\n",
    "\n",
    "complaint_type_counts.head(20)\n"
   ]
  },
  {
   "cell_type": "code",
   "execution_count": 41,
   "id": "32d41dd5",
   "metadata": {},
   "outputs": [
    {
     "data": {
      "image/png": "[encoded data removed]",
      "text/plain": [
       "<Figure size 1080x720 with 1 Axes>"
      ]
     },
     "metadata": {
      "needs_background": "light"
     },
     "output_type": "display_data"
    }
   ],
   "source": [
    "import matplotlib.pyplot as plt\n",
    "\n",
    "complaint_type_counts.head(20).plot(x ='values', y='counts', kind = 'bar', title =\"Complaint Type Frequencies (September 2021 - March 2022)\", figsize=(15, 10))\n",
    "plt.xlabel(\"Complaint Type\")\n",
    "plt.ylabel(\"Number of occurences\")\n",
    "plt.show()"
   ]
  },
  {
   "cell_type": "code",
   "execution_count": 42,
   "id": "3d356969",
   "metadata": {},
   "outputs": [],
   "source": [
    "df[\"created_hour\"] = df[\"created_at\"].dt.hour"
   ]
  },
  {
   "cell_type": "code",
   "execution_count": 46,
   "id": "7af6d3f4",
   "metadata": {},
   "outputs": [
    {
     "data": {
      "text/html": [
       "<div>\n",
       "<style scoped>\n",
       "    .dataframe tbody tr th:only-of-type {\n",
       "        vertical-align: middle;\n",
       "    }\n",
       "\n",
       "    .dataframe tbody tr th {\n",
       "        vertical-align: top;\n",
       "    }\n",
       "\n",
       "    .dataframe thead th {\n",
       "        text-align: right;\n",
       "    }\n",
       "</style>\n",
       "<table border=\"1\" class=\"dataframe\">\n",
       "  <thead>\n",
       "    <tr style=\"text-align: right;\">\n",
       "      <th></th>\n",
       "      <th>values</th>\n",
       "      <th>counts</th>\n",
       "    </tr>\n",
       "  </thead>\n",
       "  <tbody>\n",
       "    <tr>\n",
       "      <th>2</th>\n",
       "      <td>0</td>\n",
       "      <td>76567</td>\n",
       "    </tr>\n",
       "    <tr>\n",
       "      <th>5</th>\n",
       "      <td>1</td>\n",
       "      <td>52436</td>\n",
       "    </tr>\n",
       "    <tr>\n",
       "      <th>8</th>\n",
       "      <td>2</td>\n",
       "      <td>32677</td>\n",
       "    </tr>\n",
       "    <tr>\n",
       "      <th>12</th>\n",
       "      <td>3</td>\n",
       "      <td>21439</td>\n",
       "    </tr>\n",
       "    <tr>\n",
       "      <th>18</th>\n",
       "      <td>4</td>\n",
       "      <td>14843</td>\n",
       "    </tr>\n",
       "    <tr>\n",
       "      <th>22</th>\n",
       "      <td>5</td>\n",
       "      <td>10037</td>\n",
       "    </tr>\n",
       "    <tr>\n",
       "      <th>23</th>\n",
       "      <td>6</td>\n",
       "      <td>9353</td>\n",
       "    </tr>\n",
       "    <tr>\n",
       "      <th>21</th>\n",
       "      <td>7</td>\n",
       "      <td>10565</td>\n",
       "    </tr>\n",
       "    <tr>\n",
       "      <th>20</th>\n",
       "      <td>8</td>\n",
       "      <td>12459</td>\n",
       "    </tr>\n",
       "    <tr>\n",
       "      <th>19</th>\n",
       "      <td>9</td>\n",
       "      <td>14734</td>\n",
       "    </tr>\n",
       "    <tr>\n",
       "      <th>17</th>\n",
       "      <td>10</td>\n",
       "      <td>15631</td>\n",
       "    </tr>\n",
       "    <tr>\n",
       "      <th>16</th>\n",
       "      <td>11</td>\n",
       "      <td>17316</td>\n",
       "    </tr>\n",
       "    <tr>\n",
       "      <th>15</th>\n",
       "      <td>12</td>\n",
       "      <td>17981</td>\n",
       "    </tr>\n",
       "    <tr>\n",
       "      <th>14</th>\n",
       "      <td>13</td>\n",
       "      <td>19643</td>\n",
       "    </tr>\n",
       "    <tr>\n",
       "      <th>13</th>\n",
       "      <td>14</td>\n",
       "      <td>21173</td>\n",
       "    </tr>\n",
       "    <tr>\n",
       "      <th>11</th>\n",
       "      <td>15</td>\n",
       "      <td>24080</td>\n",
       "    </tr>\n",
       "    <tr>\n",
       "      <th>10</th>\n",
       "      <td>16</td>\n",
       "      <td>27290</td>\n",
       "    </tr>\n",
       "    <tr>\n",
       "      <th>9</th>\n",
       "      <td>17</td>\n",
       "      <td>31288</td>\n",
       "    </tr>\n",
       "    <tr>\n",
       "      <th>7</th>\n",
       "      <td>18</td>\n",
       "      <td>36626</td>\n",
       "    </tr>\n",
       "    <tr>\n",
       "      <th>6</th>\n",
       "      <td>19</td>\n",
       "      <td>44431</td>\n",
       "    </tr>\n",
       "    <tr>\n",
       "      <th>4</th>\n",
       "      <td>20</td>\n",
       "      <td>54453</td>\n",
       "    </tr>\n",
       "    <tr>\n",
       "      <th>3</th>\n",
       "      <td>21</td>\n",
       "      <td>68054</td>\n",
       "    </tr>\n",
       "    <tr>\n",
       "      <th>1</th>\n",
       "      <td>22</td>\n",
       "      <td>88883</td>\n",
       "    </tr>\n",
       "    <tr>\n",
       "      <th>0</th>\n",
       "      <td>23</td>\n",
       "      <td>91555</td>\n",
       "    </tr>\n",
       "  </tbody>\n",
       "</table>\n",
       "</div>"
      ],
      "text/plain": [
       "    values  counts\n",
       "2        0   76567\n",
       "5        1   52436\n",
       "8        2   32677\n",
       "12       3   21439\n",
       "18       4   14843\n",
       "22       5   10037\n",
       "23       6    9353\n",
       "21       7   10565\n",
       "20       8   12459\n",
       "19       9   14734\n",
       "17      10   15631\n",
       "16      11   17316\n",
       "15      12   17981\n",
       "14      13   19643\n",
       "13      14   21173\n",
       "11      15   24080\n",
       "10      16   27290\n",
       "9       17   31288\n",
       "7       18   36626\n",
       "6       19   44431\n",
       "4       20   54453\n",
       "3       21   68054\n",
       "1       22   88883\n",
       "0       23   91555"
      ]
     },
     "execution_count": 46,
     "metadata": {},
     "output_type": "execute_result"
    }
   ],
   "source": [
    "by_hour_of_day = df[\"created_hour\"].value_counts().rename_axis('values').reset_index(name='counts')\n",
    "\n",
    "sorted_by_hour_of_day = by_hour_of_day.sort_values(by=['values'], ascending=True)\n",
    "sorted_by_hour_of_day[\"values\"] = sorted_by_hour_of_day[\"values\"].astype(int)\n",
    "sorted_by_hour_of_day"
   ]
  },
  {
   "cell_type": "code",
   "execution_count": 47,
   "id": "7d4bff15",
   "metadata": {},
   "outputs": [
    {
     "data": {
      "image/png": "[encoded data removed]",
      "text/plain": [
       "<Figure size 1080x720 with 1 Axes>"
      ]
     },
     "metadata": {
      "needs_background": "light"
     },
     "output_type": "display_data"
    }
   ],
   "source": [
    "import matplotlib.pyplot as plt\n",
    "\n",
    "sorted_by_hour_of_day.plot(x ='values', y='counts', kind = 'bar', title =\"Complaint Frequencies by Hour of Day (September 2021 - March 2022)\", figsize=(15, 10))\n",
    "plt.xlabel(\"Hour\")\n",
    "plt.ylabel(\"Number of occurences\")\n",
    "plt.show()"
   ]
  },
  {
   "cell_type": "code",
   "execution_count": 99,
   "id": "e0fa3855",
   "metadata": {},
   "outputs": [],
   "source": [
    "closed_df[\"tat\"] = (closed_df[\"closed_at\"] - closed_df[\"created_at\"]).dt.total_seconds() / 3600.0\n",
    "closed_df = closed_df[closed_df[\"tat\"] >= 0]"
   ]
  },
  {
   "cell_type": "code",
   "execution_count": 80,
   "id": "8e3a1b9f",
   "metadata": {},
   "outputs": [
    {
     "data": {
      "text/plain": [
       "0          2.552778\n",
       "1          0.279167\n",
       "2          0.370278\n",
       "3         25.983333\n",
       "4          1.495000\n",
       "            ...    \n",
       "813497     0.357500\n",
       "813498     0.217500\n",
       "813500     0.159722\n",
       "813501     0.229444\n",
       "813505     0.094444\n",
       "Name: tat, Length: 788400, dtype: float64"
      ]
     },
     "execution_count": 80,
     "metadata": {},
     "output_type": "execute_result"
    }
   ],
   "source": [
    "closed_df[\"tat\"]"
   ]
  },
  {
   "cell_type": "code",
   "execution_count": 81,
   "id": "28508122",
   "metadata": {},
   "outputs": [
    {
     "data": {
      "text/html": [
       "<div>\n",
       "<style scoped>\n",
       "    .dataframe tbody tr th:only-of-type {\n",
       "        vertical-align: middle;\n",
       "    }\n",
       "\n",
       "    .dataframe tbody tr th {\n",
       "        vertical-align: top;\n",
       "    }\n",
       "\n",
       "    .dataframe thead th {\n",
       "        text-align: right;\n",
       "    }\n",
       "</style>\n",
       "<table border=\"1\" class=\"dataframe\">\n",
       "  <thead>\n",
       "    <tr style=\"text-align: right;\">\n",
       "      <th></th>\n",
       "      <th>Unique Key</th>\n",
       "      <th>Created Date</th>\n",
       "      <th>Closed Date</th>\n",
       "      <th>Agency</th>\n",
       "      <th>Agency Name</th>\n",
       "      <th>Complaint Type</th>\n",
       "      <th>Descriptor</th>\n",
       "      <th>Location Type</th>\n",
       "      <th>Incident Zip</th>\n",
       "      <th>Incident Address</th>\n",
       "      <th>...</th>\n",
       "      <th>Road Ramp</th>\n",
       "      <th>Bridge Highway Segment</th>\n",
       "      <th>Latitude</th>\n",
       "      <th>Longitude</th>\n",
       "      <th>Location</th>\n",
       "      <th>created_at</th>\n",
       "      <th>closed_at</th>\n",
       "      <th>created_month</th>\n",
       "      <th>created_hour</th>\n",
       "      <th>tat</th>\n",
       "    </tr>\n",
       "  </thead>\n",
       "  <tbody>\n",
       "  </tbody>\n",
       "</table>\n",
       "<p>0 rows × 46 columns</p>\n",
       "</div>"
      ],
      "text/plain": [
       "Empty DataFrame\n",
       "Columns: [Unique Key, Created Date, Closed Date, Agency, Agency Name, Complaint Type, Descriptor, Location Type, Incident Zip, Incident Address, Street Name, Cross Street 1, Cross Street 2, Intersection Street 1, Intersection Street 2, Address Type, City, Landmark, Facility Type, Status, Due Date, Resolution Description, Resolution Action Updated Date, Community Board, BBL, Borough, X Coordinate (State Plane), Y Coordinate (State Plane), Open Data Channel Type, Park Facility Name, Park Borough, Vehicle Type, Taxi Company Borough, Taxi Pick Up Location, Bridge Highway Name, Bridge Highway Direction, Road Ramp, Bridge Highway Segment, Latitude, Longitude, Location, created_at, closed_at, created_month, created_hour, tat]\n",
       "Index: []\n",
       "\n",
       "[0 rows x 46 columns]"
      ]
     },
     "execution_count": 81,
     "metadata": {},
     "output_type": "execute_result"
    }
   ],
   "source": [
    "closed_df[closed_df[\"tat\"] < 0].head()"
   ]
  },
  {
   "cell_type": "code",
   "execution_count": 88,
   "id": "fce47c70",
   "metadata": {},
   "outputs": [
    {
     "data": {
      "image/png": "[encoded data removed]",
      "text/plain": [
       "<Figure size 432x288 with 1 Axes>"
      ]
     },
     "metadata": {
      "needs_background": "light"
     },
     "output_type": "display_data"
    }
   ],
   "source": [
    "import matplotlib.pyplot as plt\n",
    "\n",
    "closed_df.hist(column=['tat'], bins=50)\n",
    "plt.ylabel(\"Number of occurances\")\n",
    "plt.xlabel(\"Turnaround Time\")\n",
    "plt.title(\"Histogram of Turnaround Times for Closed Cases\")\n",
    "plt.show()"
   ]
  },
  {
   "cell_type": "code",
   "execution_count": 89,
   "id": "28c986c3",
   "metadata": {},
   "outputs": [
    {
     "data": {
      "text/html": [
       "<div>\n",
       "<style scoped>\n",
       "    .dataframe tbody tr th:only-of-type {\n",
       "        vertical-align: middle;\n",
       "    }\n",
       "\n",
       "    .dataframe tbody tr th {\n",
       "        vertical-align: top;\n",
       "    }\n",
       "\n",
       "    .dataframe thead th {\n",
       "        text-align: right;\n",
       "    }\n",
       "</style>\n",
       "<table border=\"1\" class=\"dataframe\">\n",
       "  <thead>\n",
       "    <tr style=\"text-align: right;\">\n",
       "      <th></th>\n",
       "      <th>values</th>\n",
       "      <th>counts</th>\n",
       "    </tr>\n",
       "  </thead>\n",
       "  <tbody>\n",
       "    <tr>\n",
       "      <th>0</th>\n",
       "      <td>672 EAST  231 STREET</td>\n",
       "      <td>31252</td>\n",
       "    </tr>\n",
       "    <tr>\n",
       "      <th>1</th>\n",
       "      <td>655 EAST  230 STREET</td>\n",
       "      <td>15701</td>\n",
       "    </tr>\n",
       "    <tr>\n",
       "      <th>2</th>\n",
       "      <td>78-15 PARSONS BOULEVARD</td>\n",
       "      <td>9775</td>\n",
       "    </tr>\n",
       "    <tr>\n",
       "      <th>3</th>\n",
       "      <td>674 EAST  231 STREET</td>\n",
       "      <td>3967</td>\n",
       "    </tr>\n",
       "    <tr>\n",
       "      <th>4</th>\n",
       "      <td>620 WEST  152 STREET</td>\n",
       "      <td>3160</td>\n",
       "    </tr>\n",
       "    <tr>\n",
       "      <th>5</th>\n",
       "      <td>18-11 129 STREET</td>\n",
       "      <td>2912</td>\n",
       "    </tr>\n",
       "    <tr>\n",
       "      <th>6</th>\n",
       "      <td>82-68 164 STREET</td>\n",
       "      <td>2506</td>\n",
       "    </tr>\n",
       "    <tr>\n",
       "      <th>7</th>\n",
       "      <td>1207 BEACH AVENUE</td>\n",
       "      <td>2088</td>\n",
       "    </tr>\n",
       "    <tr>\n",
       "      <th>8</th>\n",
       "      <td>200 WEST  131 STREET</td>\n",
       "      <td>1978</td>\n",
       "    </tr>\n",
       "    <tr>\n",
       "      <th>9</th>\n",
       "      <td>177 SANDS STREET</td>\n",
       "      <td>1954</td>\n",
       "    </tr>\n",
       "    <tr>\n",
       "      <th>10</th>\n",
       "      <td>1385 WASHINGTON AVENUE</td>\n",
       "      <td>1434</td>\n",
       "    </tr>\n",
       "    <tr>\n",
       "      <th>11</th>\n",
       "      <td>158-40 76 ROAD</td>\n",
       "      <td>1425</td>\n",
       "    </tr>\n",
       "    <tr>\n",
       "      <th>12</th>\n",
       "      <td>BROADWAY</td>\n",
       "      <td>1317</td>\n",
       "    </tr>\n",
       "    <tr>\n",
       "      <th>13</th>\n",
       "      <td>159-06 UNION TURNPIKE</td>\n",
       "      <td>1146</td>\n",
       "    </tr>\n",
       "    <tr>\n",
       "      <th>14</th>\n",
       "      <td>620 WEST  141 STREET</td>\n",
       "      <td>1119</td>\n",
       "    </tr>\n",
       "    <tr>\n",
       "      <th>15</th>\n",
       "      <td>525 WEST  169 STREET</td>\n",
       "      <td>1100</td>\n",
       "    </tr>\n",
       "    <tr>\n",
       "      <th>16</th>\n",
       "      <td>2075 ST RAYMOND AVENUE</td>\n",
       "      <td>1090</td>\n",
       "    </tr>\n",
       "    <tr>\n",
       "      <th>17</th>\n",
       "      <td>158-33 78 AVENUE</td>\n",
       "      <td>994</td>\n",
       "    </tr>\n",
       "    <tr>\n",
       "      <th>18</th>\n",
       "      <td>1465 WASHINGTON AVENUE</td>\n",
       "      <td>919</td>\n",
       "    </tr>\n",
       "    <tr>\n",
       "      <th>19</th>\n",
       "      <td>99-65 64 ROAD</td>\n",
       "      <td>825</td>\n",
       "    </tr>\n",
       "  </tbody>\n",
       "</table>\n",
       "</div>"
      ],
      "text/plain": [
       "                     values  counts\n",
       "0      672 EAST  231 STREET   31252\n",
       "1      655 EAST  230 STREET   15701\n",
       "2   78-15 PARSONS BOULEVARD    9775\n",
       "3      674 EAST  231 STREET    3967\n",
       "4      620 WEST  152 STREET    3160\n",
       "5          18-11 129 STREET    2912\n",
       "6          82-68 164 STREET    2506\n",
       "7         1207 BEACH AVENUE    2088\n",
       "8      200 WEST  131 STREET    1978\n",
       "9          177 SANDS STREET    1954\n",
       "10   1385 WASHINGTON AVENUE    1434\n",
       "11           158-40 76 ROAD    1425\n",
       "12                 BROADWAY    1317\n",
       "13    159-06 UNION TURNPIKE    1146\n",
       "14     620 WEST  141 STREET    1119\n",
       "15     525 WEST  169 STREET    1100\n",
       "16   2075 ST RAYMOND AVENUE    1090\n",
       "17         158-33 78 AVENUE     994\n",
       "18   1465 WASHINGTON AVENUE     919\n",
       "19            99-65 64 ROAD     825"
      ]
     },
     "execution_count": 89,
     "metadata": {},
     "output_type": "execute_result"
    }
   ],
   "source": [
    "incident_address_counts = df[\"Incident Address\"].value_counts().rename_axis('values').reset_index(name='counts')\n",
    "\n",
    "incident_address_counts.head(20)\n"
   ]
  },
  {
   "cell_type": "code",
   "execution_count": 90,
   "id": "9d9e4a44",
   "metadata": {},
   "outputs": [
    {
     "data": {
      "image/png": "[encoded data removed]",
      "text/plain": [
       "<Figure size 1080x720 with 1 Axes>"
      ]
     },
     "metadata": {
      "needs_background": "light"
     },
     "output_type": "display_data"
    }
   ],
   "source": [
    "import matplotlib.pyplot as plt\n",
    "\n",
    "incident_address_counts.head(20).plot(x ='values', y='counts', kind = 'bar', title =\"Top 20 Incident Addresses (September 2021 - March 2022)\", figsize=(15, 10))\n",
    "plt.xlabel(\"Incident Address\")\n",
    "plt.ylabel(\"Number of occurences\")\n",
    "plt.show()"
   ]
  },
  {
   "cell_type": "code",
   "execution_count": 94,
   "id": "6402811e",
   "metadata": {},
   "outputs": [
    {
     "data": {
      "image/png": "[encoded data removed]",
      "text/plain": [
       "<Figure size 432x288 with 1 Axes>"
      ]
     },
     "metadata": {
      "needs_background": "light"
     },
     "output_type": "display_data"
    }
   ],
   "source": [
    "import matplotlib.pyplot as plt\n",
    "\n",
    "closed_df.sample(1000).boxplot(column=['tat'])\n",
    "plt.ylabel(\"Turnaround Time\")\n",
    "plt.title(\"Box Plot of Turnaround Times\")\n",
    "plt.show()"
   ]
  },
  {
   "cell_type": "code",
   "execution_count": 96,
   "id": "3bfd2ee5",
   "metadata": {},
   "outputs": [],
   "source": [
    "pending_df = df[df[\"closed_at\"].isnull()]"
   ]
  },
  {
   "cell_type": "code",
   "execution_count": 100,
   "id": "84deb4aa",
   "metadata": {},
   "outputs": [
    {
     "data": {
      "text/plain": [
       "(25036, 45)"
      ]
     },
     "execution_count": 100,
     "metadata": {},
     "output_type": "execute_result"
    }
   ],
   "source": [
    "pending_df.shape"
   ]
  },
  {
   "cell_type": "code",
   "execution_count": 102,
   "id": "3971d6fa",
   "metadata": {},
   "outputs": [
    {
     "name": "stderr",
     "output_type": "stream",
     "text": [
      "/var/folders/7r/72pw73153fq0wxt3j2p7tklh0000gn/T/ipykernel_52086/1039119046.py:3: FutureWarning: The pandas.datetime class is deprecated and will be removed from pandas in a future version. Import from datetime module instead.\n",
      "  pending_df[\"pending_for\"] = (pd.datetime.now() - pending_df[\"created_at\"]).dt.total_seconds() / 3600.0\n"
     ]
    }
   ],
   "source": [
    "import datetime\n",
    "\n",
    "pending_df[\"pending_for\"] = (pd.datetime.now() - pending_df[\"created_at\"]).dt.total_seconds() / 3600.0\n",
    "pending_df = pending_df[pending_df[\"pending_for\"] >= 0]"
   ]
  },
  {
   "cell_type": "code",
   "execution_count": 104,
   "id": "ae2b67aa",
   "metadata": {},
   "outputs": [
    {
     "data": {
      "image/png": "[encoded data removed]",
      "text/plain": [
       "<Figure size 432x288 with 1 Axes>"
      ]
     },
     "metadata": {
      "needs_background": "light"
     },
     "output_type": "display_data"
    }
   ],
   "source": [
    "import matplotlib.pyplot as plt\n",
    "\n",
    "pending_df.hist(column=['pending_for'], bins=50)\n",
    "plt.ylabel(\"Number of occurances\")\n",
    "plt.xlabel(\"Time Elapsed (in hours)\")\n",
    "plt.title(\"Histogram of Time Elapsed for Pending Cases\")\n",
    "plt.show()"
   ]
  },
  {
   "cell_type": "code",
   "execution_count": 105,
   "id": "dad934c9",
   "metadata": {},
   "outputs": [
    {
     "data": {
      "text/html": [
       "<div>\n",
       "<style scoped>\n",
       "    .dataframe tbody tr th:only-of-type {\n",
       "        vertical-align: middle;\n",
       "    }\n",
       "\n",
       "    .dataframe tbody tr th {\n",
       "        vertical-align: top;\n",
       "    }\n",
       "\n",
       "    .dataframe thead th {\n",
       "        text-align: right;\n",
       "    }\n",
       "</style>\n",
       "<table border=\"1\" class=\"dataframe\">\n",
       "  <thead>\n",
       "    <tr style=\"text-align: right;\">\n",
       "      <th></th>\n",
       "      <th>values</th>\n",
       "      <th>counts</th>\n",
       "    </tr>\n",
       "  </thead>\n",
       "  <tbody>\n",
       "    <tr>\n",
       "      <th>0</th>\n",
       "      <td>2021-11</td>\n",
       "      <td>3290</td>\n",
       "    </tr>\n",
       "    <tr>\n",
       "      <th>1</th>\n",
       "      <td>2021-03</td>\n",
       "      <td>2795</td>\n",
       "    </tr>\n",
       "    <tr>\n",
       "      <th>2</th>\n",
       "      <td>2021-10</td>\n",
       "      <td>2752</td>\n",
       "    </tr>\n",
       "    <tr>\n",
       "      <th>3</th>\n",
       "      <td>2021-06</td>\n",
       "      <td>2461</td>\n",
       "    </tr>\n",
       "    <tr>\n",
       "      <th>4</th>\n",
       "      <td>2021-05</td>\n",
       "      <td>2199</td>\n",
       "    </tr>\n",
       "    <tr>\n",
       "      <th>5</th>\n",
       "      <td>2021-12</td>\n",
       "      <td>2078</td>\n",
       "    </tr>\n",
       "    <tr>\n",
       "      <th>6</th>\n",
       "      <td>2022-03</td>\n",
       "      <td>2006</td>\n",
       "    </tr>\n",
       "    <tr>\n",
       "      <th>7</th>\n",
       "      <td>2021-09</td>\n",
       "      <td>1886</td>\n",
       "    </tr>\n",
       "    <tr>\n",
       "      <th>8</th>\n",
       "      <td>2022-01</td>\n",
       "      <td>1763</td>\n",
       "    </tr>\n",
       "    <tr>\n",
       "      <th>9</th>\n",
       "      <td>2022-02</td>\n",
       "      <td>1670</td>\n",
       "    </tr>\n",
       "    <tr>\n",
       "      <th>10</th>\n",
       "      <td>2021-08</td>\n",
       "      <td>1184</td>\n",
       "    </tr>\n",
       "    <tr>\n",
       "      <th>11</th>\n",
       "      <td>2021-07</td>\n",
       "      <td>522</td>\n",
       "    </tr>\n",
       "    <tr>\n",
       "      <th>12</th>\n",
       "      <td>2021-04</td>\n",
       "      <td>430</td>\n",
       "    </tr>\n",
       "  </tbody>\n",
       "</table>\n",
       "</div>"
      ],
      "text/plain": [
       "     values  counts\n",
       "0   2021-11    3290\n",
       "1   2021-03    2795\n",
       "2   2021-10    2752\n",
       "3   2021-06    2461\n",
       "4   2021-05    2199\n",
       "5   2021-12    2078\n",
       "6   2022-03    2006\n",
       "7   2021-09    1886\n",
       "8   2022-01    1763\n",
       "9   2022-02    1670\n",
       "10  2021-08    1184\n",
       "11  2021-07     522\n",
       "12  2021-04     430"
      ]
     },
     "execution_count": 105,
     "metadata": {},
     "output_type": "execute_result"
    }
   ],
   "source": [
    "pending_noise_complaints_by_month = pending_df[\"created_month\"].value_counts().rename_axis('values').reset_index(name='counts')\n",
    "\n",
    "pending_noise_complaints_by_month"
   ]
  },
  {
   "cell_type": "code",
   "execution_count": 106,
   "id": "c07f1ad2",
   "metadata": {},
   "outputs": [
    {
     "data": {
      "image/png": "[encoded data removed]",
      "text/plain": [
       "<Figure size 1080x720 with 1 Axes>"
      ]
     },
     "metadata": {
      "needs_background": "light"
     },
     "output_type": "display_data"
    }
   ],
   "source": [
    "import matplotlib.pyplot as plt\n",
    "\n",
    "pending_noise_complaints_by_month.plot(x ='values', y='counts', kind = 'line', title =\"Still Pending Noise Complaints by Month in NYC (September 2021 - March 2022)\", figsize=(15, 10))\n",
    "plt.xlabel(\"Month\")\n",
    "plt.ylabel(\"Count of Complaints\")\n",
    "plt.show()"
   ]
  },
  {
   "cell_type": "code",
   "execution_count": null,
   "id": "146132cc",
   "metadata": {},
   "outputs": [],
   "source": []
  }
 ],
 "metadata": {
  "kernelspec": {
   "display_name": "Python 3 (ipykernel)",
   "language": "python",
   "name": "python3"
  },
  "language_info": {
   "codemirror_mode": {
    "name": "ipython",
    "version": 3
   },
   "file_extension": ".py",
   "mimetype": "text/x-python",
   "name": "python",
   "nbconvert_exporter": "python",
   "pygments_lexer": "ipython3",
   "version": "3.9.10"
  }
 },
 "nbformat": 4,
 "nbformat_minor": 5
}
